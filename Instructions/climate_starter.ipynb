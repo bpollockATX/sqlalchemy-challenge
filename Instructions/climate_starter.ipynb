{
 "cells": [
  {
   "cell_type": "code",
   "execution_count": 1,
   "metadata": {},
   "outputs": [],
   "source": [
    "%matplotlib inline\n",
    "from matplotlib import style\n",
    "style.use('fivethirtyeight')\n",
    "import matplotlib.pyplot as plt\n",
    "import scipy.stats as st"
   ]
  },
  {
   "cell_type": "code",
   "execution_count": 2,
   "metadata": {},
   "outputs": [],
   "source": [
    "import numpy as np\n",
    "import pandas as pd"
   ]
  },
  {
   "cell_type": "code",
   "execution_count": 3,
   "metadata": {},
   "outputs": [],
   "source": [
    "import datetime as dt"
   ]
  },
  {
   "cell_type": "markdown",
   "metadata": {},
   "source": [
    "# Reflect Tables into SQLAlchemy ORM"
   ]
  },
  {
   "cell_type": "code",
   "execution_count": 4,
   "metadata": {},
   "outputs": [],
   "source": [
    "# Python SQL toolkit and Object Relational Mapper\n",
    "import sqlalchemy\n",
    "from sqlalchemy.ext.automap import automap_base\n",
    "from sqlalchemy.orm import Session\n",
    "from sqlalchemy import create_engine, func, inspect, desc"
   ]
  },
  {
   "cell_type": "code",
   "execution_count": 5,
   "metadata": {},
   "outputs": [],
   "source": [
    "engine = create_engine(\"sqlite:///Resources/hawaii.sqlite\")\n",
    "conn = engine.connect()"
   ]
  },
  {
   "cell_type": "code",
   "execution_count": 6,
   "metadata": {},
   "outputs": [],
   "source": [
    "# reflect an existing database into a new model\n",
    "base = automap_base()\n",
    "\n",
    "# reflect the tables\n",
    "base.prepare(engine, reflect = True)"
   ]
  },
  {
   "cell_type": "code",
   "execution_count": 7,
   "metadata": {},
   "outputs": [
    {
     "data": {
      "text/plain": [
       "['measurement', 'station']"
      ]
     },
     "execution_count": 7,
     "metadata": {},
     "output_type": "execute_result"
    }
   ],
   "source": [
    "# We can view all of the classes that automap found\n",
    "base.classes.keys()\n"
   ]
  },
  {
   "cell_type": "code",
   "execution_count": 8,
   "metadata": {},
   "outputs": [],
   "source": [
    "# Save references to each table\n",
    "measurement = base.classes.measurement\n",
    "station = base.classes.station"
   ]
  },
  {
   "cell_type": "code",
   "execution_count": 9,
   "metadata": {},
   "outputs": [],
   "source": [
    "# Create our session (link) from Python to the DB\n",
    "session = Session(engine)\n",
    "\n",
    "inspector = inspect(engine)\n",
    "\n",
    "# Get table names\n",
    "# tableNames = inspector.get_table_names()\n",
    "# print(tableNames)\n",
    "\n",
    "# Get Columns\n",
    "# columns = inspector.get_columns('station')\n",
    "\n",
    "# for column in columns:\n",
    "#     print(column['name'], column['type'])\n",
    "\n",
    "# measurement\n",
    "    # id INTEGER\n",
    "    # station TEXT\n",
    "    # date TEXT\n",
    "    # prcp FLOAT\n",
    "    # tobs FLOAT\n",
    "    \n",
    "# station\n",
    "    # id INTEGER\n",
    "    # station TEXT\n",
    "    # name TEXT\n",
    "    # latitude FLOAT\n",
    "    # longitude FLOAT\n",
    "    # elevation FLOAT"
   ]
  },
  {
   "cell_type": "markdown",
   "metadata": {},
   "source": [
    "# Exploratory Climate Analysis"
   ]
  },
  {
   "cell_type": "code",
   "execution_count": 10,
   "metadata": {},
   "outputs": [],
   "source": [
    "# Design a query to retrieve the last 12 months of precipitation data and plot the results\n",
    "# Don't touch this snippet\n",
    "    # session.query(measurement, station).filter(station.station == measurement.station).all()\n",
    "\n",
    "############################################    \n",
    "conn = engine.connect()\n",
    "max_date = pd.read_sql(\"Select Max(date) from measurement\", conn)\n",
    "\n",
    "# Calculate the date 1 year ago from the last data point in the database\n",
    "one_yr_ago = dt.date(2017,8,23) - dt.timedelta(days = 365)\n"
   ]
  },
  {
   "cell_type": "code",
   "execution_count": 11,
   "metadata": {},
   "outputs": [
    {
     "data": {
      "image/png": "[encoded data removed]",
      "text/plain": [
       "<Figure size 1080x360 with 1 Axes>"
      ]
     },
     "metadata": {},
     "output_type": "display_data"
    }
   ],
   "source": [
    "# Perform a query to retrieve the data and precipitation scores\n",
    "# Save the query results as a Pandas DataFrame and set the index to the date column\n",
    "precip_df = pd.read_sql(f\"Select Date, prcp from measurement where date >= '{one_yr_ago}'\", conn)\n",
    "precip_df = precip_df.dropna()\n",
    "precip_df.set_index([\"date\"])\n",
    "\n",
    "# Sort the dataframe by date\n",
    "precip_df.sort_values([\"date\"], ascending = True)\n",
    "\n",
    "# Use Pandas Plotting with Matplotlib to plot the data\n",
    "# Note: I took the 7 left characters (YYYY-MM) so that I could aggregate\n",
    "# the precipitation data by year and month.\n",
    "precip_df[\"year_mo\"] = precip_df[\"date\"].str[:7]\n",
    "\n",
    "# Create Aggregate by year and month so summary plot works\n",
    "agg_df = precip_df.groupby([\"year_mo\"])\n",
    "plot_df = pd.DataFrame({\"Precipitation\" : agg_df[\"prcp\"].sum()})\n",
    "plot_df.reset_index(level = [\"year_mo\"], inplace = True)\n",
    "\n",
    "# Set the x axis\n",
    "x_axis = np.arange(len(plot_df))\n",
    "tick_locations = [value+0.4 for value in x_axis]\n",
    "\n",
    "# Plot the Data\n",
    "plt.figure(figsize=(15,5))\n",
    "plt.bar(plot_df[\"year_mo\"], plot_df[\"Precipitation\"], align=\"edge\")\n",
    "plt.xticks(tick_locations, plot_df[\"year_mo\"], rotation=\"vertical\")\n",
    "\n",
    "# Set labels\n",
    "plt.title(\"Rain per month Aug 2016 - Aug 2017\")\n",
    "plt.xlabel(\"Date\")\n",
    "plt.ylabel(\"Rain (mm)\")\n",
    "plt.show()"
   ]
  },
  {
   "cell_type": "code",
   "execution_count": 12,
   "metadata": {},
   "outputs": [
    {
     "name": "stdout",
     "output_type": "stream",
     "text": [
      "Rainfall mean: 0.16064353974479206\n",
      "Rainfall median: 0.01\n",
      "Rainfall variance: 0.21971042383927294\n",
      "Rainfall standard deviation: 0.46873278511244865\n",
      "Rainfall standard error: 0.00348387087954466\n"
     ]
    }
   ],
   "source": [
    "# Use Pandas to calcualte the summary statistics for the precipitation data\n",
    "all_prcp_df = pd.read_sql(f\"Select prcp from measurement where date\", conn)\n",
    "all_prcp_df.dropna(how = \"any\", inplace = True)\n",
    "\n",
    "mean_prcp = np.mean(all_prcp_df[\"prcp\"])\n",
    "median_prcp = np.median(all_prcp_df[\"prcp\"])\n",
    "var_prcp = np.var(all_prcp_df[\"prcp\"])\n",
    "std_dev_prcp = np.std(all_prcp_df[\"prcp\"])\n",
    "sem_prcp = st.sem(all_prcp_df[\"prcp\"])\n",
    "\n",
    "print(f\"Rainfall mean: {mean_prcp}\")\n",
    "print(f\"Rainfall median: {median_prcp}\")\n",
    "print(f\"Rainfall variance: {var_prcp}\")\n",
    "print(f\"Rainfall standard deviation: {std_dev_prcp}\")\n",
    "print(f\"Rainfall standard error: {sem_prcp}\")"
   ]
  },
  {
   "cell_type": "code",
   "execution_count": 13,
   "metadata": {},
   "outputs": [
    {
     "name": "stdout",
     "output_type": "stream",
     "text": [
      "9\n"
     ]
    }
   ],
   "source": [
    "# Design a query to show how many stations are available in this dataset?\n",
    "station_count = session.query(station).count()\n",
    "print(station_count)"
   ]
  },
  {
   "cell_type": "code",
   "execution_count": 14,
   "metadata": {},
   "outputs": [
    {
     "data": {
      "text/plain": [
       "[('USC00519281', 2772),\n",
       " ('USC00519397', 2724),\n",
       " ('USC00513117', 2709),\n",
       " ('USC00519523', 2669),\n",
       " ('USC00516128', 2612),\n",
       " ('USC00514830', 2202),\n",
       " ('USC00511918', 1979),\n",
       " ('USC00517948', 1372),\n",
       " ('USC00518838', 511)]"
      ]
     },
     "execution_count": 14,
     "metadata": {},
     "output_type": "execute_result"
    }
   ],
   "source": [
    "# What are the most active stations? (i.e. what stations have the most rows)?\n",
    "# List the stations and the counts in descending order.\n",
    "\n",
    "session.query(measurement.station, func.count(measurement.station).label(\"Station_Count\")).group_by(measurement.station)\\\n",
    "                                                    .order_by(desc(\"Station_Count\")).all()\n"
   ]
  },
  {
   "cell_type": "code",
   "execution_count": 15,
   "metadata": {},
   "outputs": [],
   "source": [
    "# type(session.query(measurement.station, func.count(measurement.station)).group_by(measurement.station)\\\n",
    "#                                                     .order_by(func.count(measurement.station).desc()))"
   ]
  },
  {
   "cell_type": "code",
   "execution_count": 16,
   "metadata": {},
   "outputs": [
    {
     "data": {
      "text/plain": [
       "[('USC00519281', 85.0, 54.0, 71.66378066378067)]"
      ]
     },
     "execution_count": 16,
     "metadata": {},
     "output_type": "execute_result"
    }
   ],
   "source": [
    "# Using the station id from the previous query, calculate the lowest temperature recorded, \n",
    "# highest temperature recorded, and average temperature of the most active station?\n",
    "\n",
    "most_active_st = session.query(measurement.station, func.count(measurement.station)).group_by(measurement.station)\\\n",
    "                                                    .order_by(func.count(measurement.station).desc()).limit(1).all()\n",
    "\n",
    "# Hi/Low/Avg temps\n",
    "session.query(measurement.station, func.max(measurement.tobs),func.min(measurement.tobs),func.avg(measurement.tobs))\\\n",
    "                                                    .filter(measurement.station == most_active_st[0][0])\\\n",
    "                                                    .group_by(measurement.station)\\\n",
    "                                                    .order_by(func.count(measurement.station).desc()).limit(1).all()"
   ]
  },
  {
   "cell_type": "code",
   "execution_count": 26,
   "metadata": {},
   "outputs": [
    {
     "data": {
      "text/plain": [
       "<matplotlib.axes._subplots.AxesSubplot at 0x7fb937a4fbd0>"
      ]
     },
     "execution_count": 26,
     "metadata": {},
     "output_type": "execute_result"
    },
    {
     "data": {
      "image/png": "[encoded data removed]",
      "text/plain": [
       "<Figure size 432x288 with 1 Axes>"
      ]
     },
     "metadata": {},
     "output_type": "display_data"
    }
   ],
   "source": [
    "# Choose the station with the highest number of temperature observations.\n",
    "# Query the last 12 months of temperature observation data for this station and plot the results as a histogram\n",
    "most_obs = session.query(measurement.tobs).filter(measurement.station == most_active_st[0][0]).filter(measurement.date >= one_yr_ago).all()\n",
    "# print(most_obs)\n",
    "\n",
    "\n",
    "list_temp = [t.tobs for t in most_obs]\n",
    "\n",
    "df = pd.DataFrame(most_obs, columns=['tobs'])\n",
    "\n",
    "\n",
    "df.plot.hist()"
   ]
  },
  {
   "cell_type": "code",
   "execution_count": null,
   "metadata": {},
   "outputs": [],
   "source": [
    "\n"
   ]
  },
  {
   "cell_type": "markdown",
   "metadata": {},
   "source": [
    "## Bonus Challenge Assignment"
   ]
  },
  {
   "cell_type": "code",
   "execution_count": 18,
   "metadata": {},
   "outputs": [
    {
     "name": "stdout",
     "output_type": "stream",
     "text": [
      "[(62.0, 69.57142857142857, 74.0)]\n"
     ]
    }
   ],
   "source": [
    "# This function called `calc_temps` will accept start date and end date in the format '%Y-%m-%d' \n",
    "# and return the minimum, average, and maximum temperatures for that range of dates\n",
    "def calc_temps(start_date, end_date):\n",
    "    \"\"\"TMIN, TAVG, and TMAX for a list of dates.\n",
    "    \n",
    "    Args:\n",
    "        start_date (string): A date string in the format %Y-%m-%d\n",
    "        end_date (string): A date string in the format %Y-%m-%d\n",
    "        \n",
    "    Returns:\n",
    "        TMIN, TAVE, and TMAX\n",
    "    \"\"\"\n",
    "    \n",
    "    return session.query(func.min(measurement.tobs), func.avg(measurement.tobs), func.max(measurement.tobs)).\\\n",
    "        filter(measurement.date >= start_date).filter(measurement.date <= end_date).all()\n",
    "\n",
    "# function usage example\n",
    "print(calc_temps('2012-02-28', '2012-03-05'))"
   ]
  },
  {
   "cell_type": "code",
   "execution_count": 45,
   "metadata": {},
   "outputs": [
    {
     "name": "stdout",
     "output_type": "stream",
     "text": [
      "[(70.0, 77.60526315789474, 81.0)]\n"
     ]
    }
   ],
   "source": [
    "# Use your previous function `calc_temps` to calculate the tmin, tavg, and tmax \n",
    "# for your trip using the previous year's data for those same dates.\n",
    "\n",
    "print(calc_temps('2016-10-15', '2016-10-20'))"
   ]
  },
  {
   "cell_type": "code",
   "execution_count": 69,
   "metadata": {},
   "outputs": [
    {
     "data": {
      "image/png": "[encoded data removed]",
      "text/plain": [
       "<Figure size 432x288 with 1 Axes>"
      ]
     },
     "metadata": {},
     "output_type": "display_data"
    }
   ],
   "source": [
    "# Plot the results from your previous query as a bar chart. \n",
    "# Use \"Trip Avg Temp\" as your Title\n",
    "# Use the average temperature for the y value\n",
    "# Use the peak-to-peak (tmax-tmin) value as the y error bar (yerr)\n",
    "trip_temps = calc_temps('2016-10-15', '2016-10-20')\n",
    "# print(trip_temps)\n",
    "\n",
    "\n",
    "for i in trip_temps:\n",
    "    y_values = i\n",
    "\n",
    "x_values = (\"min_temp\", \"avg_temp\", \"max_temp\")\n",
    "\n",
    "yerr = y_values[2] - y_values[0]\n",
    "\n",
    "# plt.errorbar(x_values, y_values, yerr)\n",
    "# plt.errorbar(x_values, y_values, yerr)\n",
    "plt.title(\"Trip Avg Temp\")\n",
    "plt.show()\n",
    "\n"
   ]
  },
  {
   "cell_type": "code",
   "execution_count": 21,
   "metadata": {},
   "outputs": [],
   "source": [
    "# Calculate the total amount of rainfall per weather station for your trip dates using the previous year's matching dates.\n",
    "# Sort this in descending order by precipitation amount and list the station, name, latitude, longitude, and elevation\n",
    "\n"
   ]
  },
  {
   "cell_type": "code",
   "execution_count": 43,
   "metadata": {},
   "outputs": [
    {
     "data": {
      "text/plain": [
       "[(62.0, 69.15384615384616, 77.0)]"
      ]
     },
     "execution_count": 43,
     "metadata": {},
     "output_type": "execute_result"
    }
   ],
   "source": [
    "# Create a query that will calculate the daily normals \n",
    "# (i.e. the averages for tmin, tmax, and tavg for all historic data matching a specific month and day)\n",
    "\n",
    "def daily_normals(date):\n",
    "    \"\"\"Daily Normals.\n",
    "    \n",
    "    Args:\n",
    "        date (str): A date string in the format '%m-%d'\n",
    "        \n",
    "    Returns:\n",
    "        A list of tuples containing the daily normals, tmin, tavg, and tmax\n",
    "    \n",
    "    \"\"\"\n",
    "    \n",
    "    sel = [func.min(measurement.tobs), func.avg(measurement.tobs), func.max(measurement.tobs)]\n",
    "    return session.query(*sel).filter(func.strftime(\"%m-%d\", measurement.date) == date).all()\n",
    "    \n",
    "daily_normals(\"01-01\")"
   ]
  },
  {
   "cell_type": "code",
   "execution_count": null,
   "metadata": {},
   "outputs": [],
   "source": [
    "# calculate the daily normals for your trip\n",
    "# push each tuple of calculations into a list called `normals`\n",
    "\n",
    "# Set the start and end date of the trip\n",
    "\n",
    "# Use the start and end date to create a range of dates\n",
    "\n",
    "# Stip off the year and save a list of %m-%d strings\n",
    "\n",
    "# Loop through the list of %m-%d strings and calculate the normals for each date\n"
   ]
  },
  {
   "cell_type": "code",
   "execution_count": null,
   "metadata": {},
   "outputs": [],
   "source": [
    "# Load the previous query results into a Pandas DataFrame and add the `trip_dates` range as the `date` index\n"
   ]
  },
  {
   "cell_type": "code",
   "execution_count": 29,
   "metadata": {},
   "outputs": [
    {
     "data": {
      "text/plain": [
       "[(53.0, 73.09795396419437, 87.0)]"
      ]
     },
     "execution_count": 29,
     "metadata": {},
     "output_type": "execute_result"
    }
   ],
   "source": [
    "# Plot the daily normals as an area plot with `stacked=False`\n"
   ]
  }
 ],
 "metadata": {
  "kernel_info": {
   "name": "python3"
  },
  "kernelspec": {
   "display_name": "Python 3",
   "language": "python",
   "name": "python3"
  },
  "language_info": {
   "codemirror_mode": {
    "name": "ipython",
    "version": 3
   },
   "file_extension": ".py",
   "mimetype": "text/x-python",
   "name": "python",
   "nbconvert_exporter": "python",
   "pygments_lexer": "ipython3",
   "version": "3.7.6"
  },
  "nteract": {
   "version": "0.12.3"
  },
  "varInspector": {
   "cols": {
    "lenName": 16,
    "lenType": 16,
    "lenVar": 40
   },
   "kernels_config": {
    "python": {
     "delete_cmd_postfix": "",
     "delete_cmd_prefix": "del ",
     "library": "var_list.py",
     "varRefreshCmd": "print(var_dic_list())"
    },
    "r": {
     "delete_cmd_postfix": ") ",
     "delete_cmd_prefix": "rm(",
     "library": "var_list.r",
     "varRefreshCmd": "cat(var_dic_list()) "
    }
   },
   "types_to_exclude": [
    "module",
    "function",
    "builtin_function_or_method",
    "instance",
    "_Feature"
   ],
   "window_display": false
  }
 },
 "nbformat": 4,
 "nbformat_minor": 2
}
